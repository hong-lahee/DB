{
 "cells": [
  {
   "metadata": {},
   "cell_type": "markdown",
   "source": [
    "ß[문제 1: 특정 장르의 책 찾기]\n",
    "문제 설명:\n",
    "데이터베이스에 새로운 필드로 genre를 책 데이터에 추가하였습니다. 사용자는 \"fantasy\" 장르의 모든 책을 찾고 싶어합니다.\n",
    "쿼리 작성 목표:\n",
    "\"fantasy\" 장르에 해당하는 모든 책의 제목과 저자를 찾는 MongoDB 쿼리를 함수로 만들어 문제를 해결해 봅니다.\n"
   ],
   "id": "c7d944895e5a71a2"
  },
  {
   "metadata": {},
   "cell_type": "code",
   "outputs": [],
   "execution_count": null,
   "source": "# db.book.find({ genre: 'fantasy' },{ name: 1, author: 1 })",
   "id": "d445e88e9a265bc"
  },
  {
   "metadata": {},
   "cell_type": "markdown",
   "source": [
    "[문제 2: 감독별 평균 영화 평점 계산]\n",
    "문제 설명:\n",
    "각 영화 감독별로 그들의 영화 평점의 평균을 계산하고 싶습니다. 이를 통해 어떤 감독이 가장 높은 평균 평점을 가지고 있는지 알아볼 수 있습니다.\n",
    "쿼리 작성 목표:\n",
    "모든 영화 감독의 영화 평점 평균을 계산하고, 평균 평점이 높은 순으로 정렬하는 MongoDB 쿼리를 함수로 만들어 문제를 해결해 봅니다."
   ],
   "id": "68eba505ec16bcb9"
  },
  {
   "metadata": {},
   "cell_type": "code",
   "outputs": [],
   "execution_count": null,
   "source": [
    "# db.movie.aggregate([\n",
    "#   { $group: { _id: \"$director\", avgrating: { $svg: '$rating }}},\n",
    "#   { $sort: { avgrating: -1}}\n",
    "#   ])\n",
    "# 1은 오름차순 -1은 내림차순이다"
   ],
   "id": "1bf42bde6cba62a1"
  },
  {
   "metadata": {},
   "cell_type": "markdown",
   "source": [
    "[문제 3: 특정 사용자의 최근 행동 조회]\n",
    "문제 설명:\n",
    "특정 사용자의 최근 행동 로그를 조회하고자 합니다. 이 때, 최신 순으로 정렬하여 최근 5개의 행동만을 보고 싶습니다.\n",
    "쿼리 작성 목표:\n",
    "사용자 ID가 1인 사용자의 최근 행동 5개를 시간 순으로 정렬하여 조회하는 MongoDB 쿼리를 함수로 만들어 문제를 해결해 봅니다."
   ],
   "id": "fe8cded1a6c19387"
  },
  {
   "metadata": {},
   "cell_type": "code",
   "outputs": [],
   "execution_count": null,
   "source": [
    "# db.user_actions.aggregate([\n",
    "#   { $match: { user_id: 1}},\n",
    "#   { $sort: { $timestamp: -1}},\n",
    "#   { $limit: 5},\n",
    "#   { $project: { user_id: 1, action: 1, timestamp: 1}}\n",
    "#   ])"
   ],
   "id": "db2d79e4faa81e4"
  },
  {
   "metadata": {},
   "cell_type": "markdown",
   "source": [
    "[문제 4: 출판 연도별 책의 수 계산]\n",
    "문제 설명 :\n",
    "데이터베이스에 저장된 책 데이터를 이용하여 각 출판 연도별로 출판된 책의 수를 계산하고자 합니다. 이 데이터는 시간에 따른 출판 트렌드를 분석하는 데 사용될 수 있습니다.\n",
    "쿼리 작성 목표 :\n",
    "각 출판 연도별로 출판된 책의 수를 계산하고, 출판된 책의 수가 많은 순서대로 정렬하는 MongoDB 쿼리를 함수로 만들어 문제를 해결해 봅니다."
   ],
   "id": "ef461ebdfe7a81a2"
  },
  {
   "metadata": {},
   "cell_type": "code",
   "outputs": [],
   "execution_count": null,
   "source": [
    "# db.book.aggregate([\n",
    "#   { $group: { id_: year_publication, book_count: { $sum: 1 }}},\n",
    "#   { $sort: {book_count : -1}}\n",
    "#   ])"
   ],
   "id": "59a54f0057a41c01"
  },
  {
   "metadata": {},
   "cell_type": "markdown",
   "source": [
    "문제 5: 특정 사용자의 행동 유형 업데이트]\n",
    "문제 설명:\n",
    "특정 사용자의 행동 로그 중, 특정 날짜 이전의 \"view\" 행동을 \"seen\"으로 변경하고 싶습니다. 예를 들어, 사용자 ID가 1인 사용자의 2023년 4월 10일 이전의 모든 \"view\" 행동을 \"seen\"으로 변경하는 작업입니다.\n",
    "쿼리 작성 목표:\n",
    "사용자 ID가 1인 사용자의 2023년 4월 10일 이전의 \"view\" 행동을 \"seen\"으로 변경하는 MongoDB 업데이트 쿼리를 함수로 만들어 문제를 해결해 봅니다."
   ],
   "id": "8a79b1b6377793f7"
  },
  {
   "metadata": {},
   "cell_type": "code",
   "outputs": [],
   "execution_count": null,
   "source": [
    "# db.user_actions.updateMany:([\n",
    "#   { user_id: 1,\n",
    "#     action: 'view',\n",
    "#     timestamp: { $lt: ISODate(\"2023-04-10T00:00:00Z\")}},\n",
    "#   { $set: { action:'seen'}}\n",
    "#   ])"
   ],
   "id": "fca4880bbef1f0a8"
  }
 ],
 "metadata": {
  "kernelspec": {
   "display_name": "Python 3",
   "language": "python",
   "name": "python3"
  },
  "language_info": {
   "codemirror_mode": {
    "name": "ipython",
    "version": 2
   },
   "file_extension": ".py",
   "mimetype": "text/x-python",
   "name": "python",
   "nbconvert_exporter": "python",
   "pygments_lexer": "ipython2",
   "version": "2.7.6"
  }
 },
 "nbformat": 4,
 "nbformat_minor": 5
}
